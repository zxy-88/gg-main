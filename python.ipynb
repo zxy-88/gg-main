{
 "cells": [
  {
   "cell_type": "code",
   "execution_count": null,
   "metadata": {},
   "outputs": [],
   "source": [
    "import xml.etree.ElementTree as ET\n",
    "\n",
    "# Get the path to the XML file.\n",
    "file_path = \"enquiry.xls\"\n",
    "\n",
    "# Create an ElementTree object from the XML file.\n",
    "tree = ET.parse(file_path)\n",
    "\n",
    "# Get the root element of the XML file.\n",
    "root = tree.getroot()\n",
    "\n",
    "# Print the name of the root element.\n",
    "print(root.tag)\n",
    "\n",
    "# Iterate over the children of the root element.\n",
    "for child in root:\n",
    "\n",
    "    # Print the name and value of each child element.\n",
    "    print(child.tag, child.text)\n"
   ]
  },
  {
   "cell_type": "code",
   "execution_count": null,
   "metadata": {},
   "outputs": [],
   "source": [
    "import xml.etree.ElementTree as ET\n",
    "\n",
    "# อ่านไฟล์ XML\n",
    "tree = ET.parse('enquiry.xls')\n",
    "root = tree.getroot()\n",
    "\n",
    "# ตัวอย่างการอ่านข้อมูลในไฟล์ XML\n",
    "for element in root.iter():\n",
    "    print(element.tag, element.attrib, element.text)\n"
   ]
  },
  {
   "cell_type": "code",
   "execution_count": null,
   "metadata": {},
   "outputs": [],
   "source": [
    "import xml.etree.ElementTree as ET\n",
    "\n",
    "\n",
    "# XML content without the XML declaration\n",
    "xml_content = '''\n",
    "<Workbook xmlns=\"urn:schemas-microsoft-com:office:spreadsheet\" xmlns:x=\"urn:schemas-microsoft-com:office:excel\" xmlns:ss=\"urn:schemas-microsoft-com:office:spreadsheet\" xmlns:html=\"http://www.w3.org/TR/REC-html40\">\n",
    "<Styles>\n",
    "<Style ss:ID=\"sDT\"><NumberFormat ss:Format=\"Short Date\"/></Style>\n",
    "</Styles>\n",
    "<Worksheet ss:Name=\"Sheet1\">\n",
    "    <Table>\n",
    "        <Row>\n",
    "            <Cell><Data ss:Type=\"String\">Report enquiry :Startdate 2023-07-21 to 2023-07-21 Export time [2023-07-22 17:17:59]</Data></Cell>\n",
    "        </Row>\n",
    "        <Row>\n",
    "            <Cell><Data ss:Type=\"String\">เลขเคลม</Data></Cell>\n",
    "            <Cell><Data ss:Type=\"String\">เลขรับแจ้ง</Data></Cell>\n",
    "            <Cell><Data ss:Type=\"String\">เลขเซอเวย์</Data></Cell>\n",
    "            <Cell><Data ss:Type=\"String\">ประเภทเคลม</Data></Cell>\n",
    "            <Cell><Data ss:Type=\"String\">เลขกรมธรรม์</Data></Cell>\n",
    "            <Cell><Data ss:Type=\"String\">ทะเบียนรถ</Data></Cell>\n",
    "        </Row>\n",
    "    </Table>\n",
    "</Worksheet>\n",
    "</Workbook>\n",
    "'''\n",
    "\n",
    "\n",
    "root = ET.parse('enquiry.xls')\n",
    "# Parse XML content\n",
    "# root = ET.fromstring(xml_content)\n",
    "\n",
    "\n",
    "# Define the namespace\n",
    "namespace = {'ss': 'urn:schemas-microsoft-com:office:spreadsheet'}\n",
    "\n",
    "\n",
    "# Access the tag and attribute values\n",
    "# worksheet_element = root.find(\"./ss:Worksheet\", namespace)\n",
    "\n",
    "# worksheet_name = worksheet_element.attrib.get(\"ss:Name\", None) if worksheet_element is not None else None\n",
    "# print(\"Worksheet Name:\", worksheet_name)\n",
    "\n",
    "\n",
    "rows = root.findall(\"./ss:Worksheet/ss:Table/ss:Row\", namespace)\n",
    "print(len(rows))\n",
    "\n",
    "for row in rows:\n",
    "    data_elements = row.findall(\"ss:Cell/ss:Data\", namespace)\n",
    "    for data_element in data_elements:\n",
    "        data_type = data_element.attrib.get(\"ss:Type\", None)\n",
    "        data_text = data_element.text\n",
    "        print(\"Data Type:\", data_type, \"Data Text:\", data_text)\n"
   ]
  },
  {
   "cell_type": "code",
   "execution_count": null,
   "metadata": {},
   "outputs": [],
   "source": [
    "import xml.etree.ElementTree as ET\n",
    "\n",
    "root = ET.parse('enquiry.xls')\n",
    "# Parse XML content\n",
    "# root = ET.fromstring(xml_content)\n",
    "\n",
    "# Define the namespace\n",
    "namespace = {'ss': 'urn:schemas-microsoft-com:office:spreadsheet'}\n",
    "\n",
    "rows = root.findall(\"./ss:Worksheet/ss:Table/ss:Row\", namespace)\n",
    "print(len(rows))\n",
    "\n",
    "for row in rows:\n",
    "    data_elements = row.findall(\"ss:Cell/ss:Data\", namespace)\n",
    "    print('SRow' + '-'*100)\n",
    "    for data_element in data_elements:\n",
    "        data_text = data_element.text\n",
    "        print(\"Data Text:\", data_text)\n",
    "    print('ERow'+ '-'*100)"
   ]
  },
  {
   "cell_type": "code",
   "execution_count": null,
   "metadata": {},
   "outputs": [],
   "source": [
    "# ลิสต์ด้านบนที่มีสมาชิกทั้งหมด\n",
    "all_items = ['เลขเคลม', 'เลขรับแจ้ง', 'เลขเซอเวย์', 'ประเภทเคลม', 'เลขกรมธรรม์', 'ทะเบียนรถ', 'ลักษณะเหตุ', 'สถานที่เกิดเหตุ', 'อำเภอที่เกิดเหตุ', 'จังหวัดที่เกิดเหตุ', 'อำเภอที่ออกตรวจสอบ', 'จังหวัดที่ออกตรวจสอบ', 'พิ้นที่สน.', 'ถูก/ผิด/ร่วม/ไม่พบ/ไม่ยุติ', 'พนักงานตรวจสอบ', 'เหตุผลการจ่ายงาน', 'เบอร์โทรศัพท์พนักงาน', 'ใช้เซอร์เวย์นอก', 'ศูนย์', '(คู่กรณี) มี/ไม่มี ประกัน/ไม่มีคู่กรณี', 'เขต (กท./ปม/ตจว)', 'ประเภทเคลม(ว.4/นัดหมาย)', 'ใน/นอก(เวลางาน)', 'นอกพื้นที่', 'ประเภทบริการ', 'ว.7', 'วันที่/เวลารับแจ้ง', 'วันที่/เวลาจ่ายงาน', 'วันที่/เวลารับงาน', 'วันที่/เวลาถึง ว.22', 'วันที่/เวลาเสร็จงาน ว.14', 'วันที่/เวลาส่งรายงาน', 'สรุปเวลา', 'การชน(รถ)', 'ทรัพย์สิน', 'ผู้บาดเจ็บ', 'รวม', 'จำนวนเงินเรียกร้อง', 'หมายเหตุ', 'ผู้รับแจ้ง', 'ผู้จ่ายงาน', 'ผู้ตรวจสอบงาน', 'วันที่/เวลาตรวจสอบ', 'สถานะงาน']\n",
    "\n",
    "# แบ่ง List ด้านบนเป็น 4 ลิสต์ ลิสละ 11 สมาชิก\n",
    "split_lists = [all_items[i:i+11] for i in range(0, len(all_items), 11)]\n",
    "\n",
    "# ตรวจสอบผลลัพธ์\n",
    "for idx, sublist in enumerate(split_lists, start=1):\n",
    "    # print(f\"List {idx}: {sublist}\")\n",
    "    print(idx)\n"
   ]
  },
  {
   "cell_type": "code",
   "execution_count": null,
   "metadata": {},
   "outputs": [],
   "source": [
    "import xml.etree.ElementTree as ET\n",
    "\n",
    "root = ET.parse('enquiry.xls')\n",
    "\n",
    "# Define the namespace\n",
    "namespace = {'ss': 'urn:schemas-microsoft-com:office:spreadsheet'}\n",
    "\n",
    "rows = root.findall(\"./ss:Worksheet/ss:Table/ss:Row\", namespace)\n",
    "print(len(rows))\n",
    "\n",
    "# for row in rows:\n",
    "#     data_elements = row.findall(\"ss:Cell/ss:Data\", namespace)\n",
    "#     print('SRow' + '-'*100)\n",
    "#     for data_element in data_elements:\n",
    "#         data_text = data_element.text\n",
    "#         print(\"Data Text:\", data_text)\n",
    "#     print('ERow'+ '-'*100)\n",
    "ap_ = []\n",
    "for c_row ,v_row in enumerate(rows):\n",
    "    data_elements = v_row.findall(\"ss:Cell/ss:Data\", namespace)\n",
    "    # print(data_elements)\n",
    "    print('-'*130)\n",
    "    for c_de,v_de in enumerate(data_elements):\n",
    "        data_text = v_de.text\n",
    "        print(str(c_de) + \" Data Text:\", data_text)\n",
    "        ap_.append(data_text)"
   ]
  },
  {
   "cell_type": "code",
   "execution_count": null,
   "metadata": {},
   "outputs": [],
   "source": [
    "ap_.pop(0)  # ลบ 'Report enquiry :Startdate 2023-07-20 to 2023-07-20 Export time [2023-07-21 12:46:28]'"
   ]
  },
  {
   "cell_type": "code",
   "execution_count": null,
   "metadata": {},
   "outputs": [],
   "source": [
    "rows = root.findall(\"./ss:Worksheet/ss:Table/ss:Row\", namespace)\n",
    "print(len(rows))"
   ]
  },
  {
   "cell_type": "code",
   "execution_count": null,
   "metadata": {},
   "outputs": [],
   "source": [
    "namespace = {'ss': 'urn:schemas-microsoft-com:office:spreadsheet'}\n",
    "\n",
    "rows = root.findall(\"./ss:Worksheet/ss:Table/ss:Row/ss:Cell/ss:Data\", namespace)\n",
    "\n",
    "len(rows)"
   ]
  },
  {
   "cell_type": "code",
   "execution_count": null,
   "metadata": {},
   "outputs": [],
   "source": [
    "sl = [ap_[i:i+44] for i in range(0, len(ap_), 44)]\n",
    "\n",
    "# ตรวจสอบผลลัพธ์\n",
    "for idx, sublist in enumerate(sl, start=1):\n",
    "    # print(f\"List {idx}: {sublist}\")\n",
    "    print(idx,sublist)"
   ]
  },
  {
   "cell_type": "code",
   "execution_count": null,
   "metadata": {},
   "outputs": [],
   "source": [
    "column = sl[0] # ตั้งชื่อ คอลัมน์\n",
    "column"
   ]
  },
  {
   "cell_type": "code",
   "execution_count": null,
   "metadata": {},
   "outputs": [],
   "source": [
    "sl.pop(0) # ลบหัวแถวออก"
   ]
  },
  {
   "cell_type": "code",
   "execution_count": null,
   "metadata": {},
   "outputs": [],
   "source": [
    "sl"
   ]
  },
  {
   "cell_type": "code",
   "execution_count": null,
   "metadata": {},
   "outputs": [],
   "source": [
    "import pandas as pd\n",
    "\n",
    "pd.set_option('display.max_columns',None)\n",
    "\n",
    "df = pd.DataFrame(sl,columns=column)\n",
    "df\n"
   ]
  },
  {
   "cell_type": "code",
   "execution_count": null,
   "metadata": {},
   "outputs": [],
   "source": [
    "df[['เลขเคลม','เลขรับแจ้ง','เลขเซอเวย์','อำเภอที่เกิดเหตุ','จังหวัดที่เกิดเหตุ','อำเภอที่ออกตรวจสอบ','จังหวัดที่ออกตรวจสอบ','พนักงานตรวจสอบ','เหตุผลการจ่ายงาน','ใช้เซอร์เวย์นอก',\n",
    "    'ประเภทเคลม(ว.4/นัดหมาย)','ใน/นอก(เวลางาน)','นอกพื้นที่','วันที่/เวลารับแจ้ง','วันที่/เวลาจ่ายงาน','วันที่/เวลารับงาน','วันที่/เวลาถึง ว.22','วันที่/เวลาเสร็จงาน ว.14','วันที่/เวลาส่งรายงาน','ผู้รับแจ้ง','ผู้จ่ายงาน','ผู้ตรวจสอบงาน','วันที่/เวลาตรวจสอบ','สถานะงาน']]"
   ]
  },
  {
   "cell_type": "code",
   "execution_count": null,
   "metadata": {},
   "outputs": [],
   "source": [
    "# df[df['ผู้จ่ายงาน']=='ปิยะณัฐ ขานไธสง']"
   ]
  },
  {
   "cell_type": "code",
   "execution_count": null,
   "metadata": {},
   "outputs": [],
   "source": [
    "# df[(df['ผู้รับแจ้ง']=='ปิยะณัฐ') & (df['ผู้จ่ายงาน']=='ปิยะณัฐ ขานไธสง')]"
   ]
  },
  {
   "cell_type": "code",
   "execution_count": null,
   "metadata": {},
   "outputs": [],
   "source": [
    "import matplotlib.pyplot as plt\n",
    "import numpy as np\n",
    "\n",
    "x = np.arange(0,30)\n",
    "\n",
    "df.plot(kind='bar',x='ผู้รับแจ้ง',y='เลขเคลม')\n"
   ]
  },
  {
   "cell_type": "code",
   "execution_count": 60,
   "metadata": {},
   "outputs": [
    {
     "data": {
      "text/plain": [
       "0               ปิยะณัฐ SE\n",
       "1                  ปิยะณัฐ\n",
       "2                  ปิยะณัฐ\n",
       "3                  ปิยะณัฐ\n",
       "4                 sesurvey\n",
       "              ...         \n",
       "256               sesurvey\n",
       "257               sesurvey\n",
       "258               sesurvey\n",
       "259    ขนิษฐา ฉายินทุ (SE)\n",
       "260                ปิยะณัฐ\n",
       "Name: ผู้รับแจ้ง, Length: 261, dtype: object"
      ]
     },
     "execution_count": 60,
     "metadata": {},
     "output_type": "execute_result"
    }
   ],
   "source": [
    "dfx = df['ผู้รับแจ้ง'].fillna('sesurvey')\n",
    "dfx"
   ]
  },
  {
   "cell_type": "code",
   "execution_count": 57,
   "metadata": {},
   "outputs": [
    {
     "data": {
      "text/plain": [
       "<AxesSubplot: >"
      ]
     },
     "execution_count": 57,
     "metadata": {},
     "output_type": "execute_result"
    },
    {
     "data": {
      "image/png": "[encoded data removed]",
      "text/plain": [
       "<Figure size 640x480 with 1 Axes>"
      ]
     },
     "metadata": {},
     "output_type": "display_data"
    }
   ],
   "source": [
    "import numpy as np\n",
    "import matplotlib.pyplot as plt\n",
    "import matplotlib as mpl\n",
    "\n",
    "\n",
    "mpl.font_manager.fontManager.addfont(r'C:\\Users\\88888888\\Desktop\\gg-main\\THSarabunNew.ttf')\n",
    "mpl.rc('font',family='TH Sarabun New',size=10)\n",
    "\n",
    "# x = dfx\n",
    "# y = np.arange(1,262)\n",
    "\n",
    "\n",
    "# plt.bar(x,y)\n",
    "# plt.show()\n",
    "\n",
    "dfx.value_counts().plot(kind='barh')"
   ]
  },
  {
   "cell_type": "code",
   "execution_count": 63,
   "metadata": {},
   "outputs": [
    {
     "data": {
      "image/png": "[encoded data removed]",
      "text/plain": [
       "<Figure size 640x480 with 1 Axes>"
      ]
     },
     "metadata": {},
     "output_type": "display_data"
    }
   ],
   "source": [
    "import pandas as pd\n",
    "import matplotlib.pyplot as plt\n",
    "\n",
    "# สร้างข้อมูลตัวอย่าง\n",
    "data = {\n",
    "    'ประเทศ': ['ประเทศ A', 'ประเทศ B', 'ประเทศ C', 'ประเทศ D'],\n",
    "    'จำนวนประชากร': [500, 700, 400, 600]\n",
    "}\n",
    "\n",
    "# แปลงข้อมูลเป็น DataFrame ของ pandas\n",
    "df = pd.DataFrame(data)\n",
    "\n",
    "# สร้างกราฟแบบ bar โดยกำหนดชื่อประเทศเป็นแกน x และจำนวนประชากรเป็นแกน y\n",
    "ax = df.plot(x='ประเทศ', y='จำนวนประชากร', kind='bar', legend=False)\n",
    "\n",
    "# แสดงค่าบนแท่ง\n",
    "for index, value in enumerate(df['จำนวนประชากร']):\n",
    "    ax.text(index, value, str(value), ha='center', va='bottom')\n",
    "\n",
    "# กำหนดชื่อแกน x และ y และชื่อกราฟ\n",
    "plt.xlabel('ประเทศ')\n",
    "plt.ylabel('จำนวนประชากร')\n",
    "plt.title('กราฟแสดงจำนวนประชากรของแต่ละประเทศ')\n",
    "\n",
    "# แสดงกราฟ\n",
    "plt.show()\n",
    "\n"
   ]
  },
  {
   "cell_type": "code",
   "execution_count": 56,
   "metadata": {},
   "outputs": [
    {
     "data": {
      "text/plain": [
       "สุธรรมา  บุญศาสตร์ (ABI)         18\n",
       "ทัศวรรณ ปัญญา (SE)               17\n",
       "นภชนก ภูสีฤทธิ์ (ABI)            17\n",
       "ขนิษฐา ฉายินทุ (SE)              16\n",
       "ปิยะณัฐ                          16\n",
       "ประภัสสร ส่องแก้ว (ABI)          15\n",
       "จินดา  ชูศิลปกิจเจริญ (ABI)      14\n",
       "สุรินพร   ทองผาภูมิเจริญ (SE)    14\n",
       "วัลลภา  เอกตา  (SE)              13\n",
       "สุภาพร  สันติเสถียรกุล (ABI)     13\n",
       "เดชา จันทะทัย (SE)               11\n",
       "กรชนก สุกใส                      10\n",
       "นารินทร์ ทองสุทธิ์ (ABI)         10\n",
       "sesurvey                         10\n",
       "พัชรินทร์ ชินโคตร (ABI)           9\n",
       "นวลปรางค์ ขันตยาภรณ์              9\n",
       "กวินทิพย์ น้อยไสย์ (SE)           8\n",
       "กาญจนา  โพธิมี (ABI)              8\n",
       "ปิยะณัฐ SE                        6\n",
       "ภัทรธิดา ประชาสนธิ (ABI)          5\n",
       "อรพิน ชุมพงษ์ (SE)                5\n",
       "ทัศวรรณ ปัญญา                     3\n",
       "เพ็ญนภา  ฝาอิดิน (SE)             3\n",
       "ศิรินภา ตฤณธวัช (ABI)             2\n",
       "ศรุตยา  ศรีธนขันธุ(SE)            2\n",
       "คธากร สุดคนึง(SE)                 2\n",
       "สุนิสา กระแหน่(SE)                1\n",
       "ผขป                               1\n",
       "น้ำฝน ร่วมทอง  (SE)               1\n",
       "สุรินพร ทองผาภูมิเจริญ (SE)       1\n",
       "ศรัณย์ลักษณ์  ริมหิรัญ (ABI)      1\n",
       "Name: ผู้รับแจ้ง, dtype: int64"
      ]
     },
     "execution_count": 56,
     "metadata": {},
     "output_type": "execute_result"
    }
   ],
   "source": [
    "dfx.value_counts()"
   ]
  },
  {
   "cell_type": "code",
   "execution_count": 45,
   "metadata": {},
   "outputs": [
    {
     "data": {
      "text/plain": [
       "'3.6.3'"
      ]
     },
     "execution_count": 45,
     "metadata": {},
     "output_type": "execute_result"
    }
   ],
   "source": [
    "import matplotlib as mpl\n",
    "mpl.__version__"
   ]
  },
  {
   "cell_type": "code",
   "execution_count": null,
   "metadata": {},
   "outputs": [],
   "source": [
    "x = np.arange(1,6)\n",
    "y = [5696409,2628818,1857429,1798014,1728242]\n",
    "mueang = ['Bangkok','Nakhonratchasima','Ubonratchathani','Khonkaen','Chiangmai']\n",
    "ax = plt.axes(xticks=x) # กำหนดให้ขีดวางตรงทุกค่าตำแน่งที่ป้อนเข้าไป (คือ 1 ถึง 5)\n",
    "ax.set_xticklabels(mueang,rotation=10) # ใส่ชื่อจังหวัดลงไปแทนตัวเลข 1 ถึง 5\n",
    "plt.bar(x,y)\n",
    "plt.show()"
   ]
  }
 ],
 "metadata": {
  "kernelspec": {
   "display_name": "venv",
   "language": "python",
   "name": "python3"
  },
  "language_info": {
   "codemirror_mode": {
    "name": "ipython",
    "version": 3
   },
   "file_extension": ".py",
   "mimetype": "text/x-python",
   "name": "python",
   "nbconvert_exporter": "python",
   "pygments_lexer": "ipython3",
   "version": "3.11.0"
  },
  "orig_nbformat": 4
 },
 "nbformat": 4,
 "nbformat_minor": 2
}
